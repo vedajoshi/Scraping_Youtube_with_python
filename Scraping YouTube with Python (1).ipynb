{
 "cells": [
  {
   "cell_type": "markdown",
   "metadata": {},
   "source": [
    "The module is only responsible for scrapping particular video information from a URL (eg. url).\n",
    "we will walk through an example of extracting youtube video information with the help of Python."
   ]
  },
  {
   "cell_type": "code",
   "execution_count": 1,
   "metadata": {},
   "outputs": [
    {
     "name": "stdout",
     "output_type": "stream",
     "text": [
      "Requirement already satisfied: pytube in ./opt/anaconda3/lib/python3.8/site-packages (10.6.0)\n",
      "Requirement already satisfied: typing-extensions in ./opt/anaconda3/lib/python3.8/site-packages (from pytube) (3.7.4.3)\n",
      "Note: you may need to restart the kernel to use updated packages.\n"
     ]
    }
   ],
   "source": [
    "pip install pytube"
   ]
  },
  {
   "cell_type": "code",
   "execution_count": 2,
   "metadata": {},
   "outputs": [],
   "source": [
    "from pytube import YouTube"
   ]
  },
  {
   "cell_type": "markdown",
   "metadata": {},
   "source": [
    "You will notice that we have and installed pytube3 by using the pip command, but we are importing pytubeand not \n",
    "pytube3. To eliminate confusion, pytube3 is also imported by writing only pytube. We don’t import it by writing \n",
    "aspytube3."
   ]
  },
  {
   "cell_type": "markdown",
   "metadata": {},
   "source": [
    "Our next step is to get the link of the youtube video which we need to scrape using python. Don’t forget to\n",
    "place your link between ” ” or ‘ ‘:"
   ]
  },
  {
   "cell_type": "code",
   "execution_count": 3,
   "metadata": {},
   "outputs": [
    {
     "name": "stdout",
     "output_type": "stream",
     "text": [
      "Enter the link of your vedio:https://www.youtube.com/watch?v=oQmxQh92Nh8\n"
     ]
    }
   ],
   "source": [
    "Link=input('Enter the link of your vedio:')\n",
    "yt=YouTube(Link)"
   ]
  },
  {
   "cell_type": "code",
   "execution_count": 4,
   "metadata": {},
   "outputs": [
    {
     "name": "stdout",
     "output_type": "stream",
     "text": [
      "Title : Data Analytics Full Course In 5 Hours | Data Analytics For Beginners | Data Analytics | Simplilearn\n",
      "Views : 115051\n",
      "Duration : 15581\n",
      "Description : 🔥Free Data Analytics course: https://www.simplilearn.com/learn-data-analytics-for-beginners-skillup?utm_campaign=Skillup-DataAnalytics&utm_medium=DescriptionFirstFold&utm_source=youtube\n",
      "Data analytics has been rapidly growing, with companies looking to generate insights and drive their business with the help of data. In this Data Analytics Full Course video, you will learn what data analytics is, why data analytics is necessary, the types of data analytics, and the various data analytics applications. You will then understand a case study and perform analysis of data using Python and R. In addition to that; we will see the top 10 data analysis tools and understand the difference between a data scientist and data analyst. Finally, we’ll see the top interview questions that will help you crack a data analyst interview.\n",
      "\n",
      "Start learning today's most in-demand skills for FREE. Visit us at https://www.simplilearn.com/skillup-free-online-courses?utm_campaign=DataAnalytics&utm_medium=Description&utm_source=youtube   \n",
      "Choose over 300 in-demand skills and get access to 1000+ hours of video content for FREE in various technologies like Data Science, Cybersecurity, Project Management & Leadership, Digital Marketing, and much more. \n",
      "\n",
      "00:00:00 What is Data Analytics\n",
      "00:05:21 Types of data Analytics\n",
      "00:11:58 Why Data Analytics\n",
      "00:17:17 Data Analytics using Python\n",
      "02:01:29 Data Analytics using R\n",
      "02:34:22 Data Analysis Tools\n",
      "02:53:20 Data Analytics Jobs, Career and Salary\n",
      "03:18:41 Data Scientist vs Data Analyst\n",
      "03:30:19 Data Analyst Interview Questions\n",
      "\n",
      "⏩ Check out the Data Analytics Playlist: link: https://www.youtube.com/playlist?list=PLEiEAq2VkUUKgEFXH1tBbHwq38oWYDScU\n",
      "\n",
      "✅Subscribe to our Channel to learn more about the top Technologies: https://bit.ly/2VT4WtH\n",
      "\n",
      "#DataAnalyticsFullCourse #DataAnalyticsForBeginners #LearnDataAnalytics #DataAnalysis #DataAnalytics #Simplilearn\n",
      "\n",
      "This Data Analyst Master’s Program in collaboration with IBM will make you an expert in data analytics. In this Data Analytics course, you'll learn analytics tools and techniques, how to work with SQL databases, the languages of R and Python, how to create data visualizations, and how to apply statistics and predictive analytics in a business environment.\n",
      "\n",
      "What are the learning objectives?\n",
      "Simplilearn’s Data Analyst Master's Program developed in collaboration with IBM will provide you with extensive expertise in the booming data analytics field. This data analytics certification training course will teach you how to master descriptive and inferential statistics, hypothesis testing, regression analysis, data blending, data extracts, and forecasting. Through this course, you will also gain expertise in data visualization techniques using Tableau and Power BI, learning how to organize data and design dashboards. In this data analyst certification online course, a special emphasis is placed on those currently employed in the non-technical workforce. Through this Data Analytics course, those with a basic understanding of mathematical concepts will be able to complete the course and become an expert in data analytics. This learning experience melds the knowledge of Data Analytics with hands-on demos and projects via CloudLab. Upon completing this course, you will have all the skills required to become a successful data analyst.\n",
      "\n",
      "Why become Data Analyst?\n",
      "By 2020, the World Economic Forum forecasts that data analysts will be in demand due to increasing data collection and usage. Organizations view data analysis as one of the most crucial future specialties due to the value that can be derived from data. Data is more abundant and accessible than ever in today’s business environment. In fact, 2.5 quintillion bytes of data are created each day. With an ever-increasing skill gap in data analytics, the value of data analysts is continuing to grow, creating a new job and career advancement opportunities. \n",
      "\n",
      "Who should take up this course?\n",
      "Aspiring professionals of any educational background with an analytical frame of mind are best suited to pursue the Data Analyst Master’s Program, including:\n",
      "1. IT professionals\n",
      "2. Banking and finance professionals\n",
      "3. Marketing managers\n",
      "4. Sales professionals\n",
      "5. Supply chain network managers\n",
      "6. Beginners in the data analytics domain\n",
      "7. Students in UG/ PG programs\n",
      "\n",
      "👉Learn more at: https://www.simplilearn.com/data-analyst-masters-certification-training-course?utm_campaign=DataAnalytics&utm_medium=Description&utm_source=youtube\n",
      "\n",
      "For more information about Simplilearn courses, visit: \n",
      "- Facebook: https://www.facebook.com/Simplilearn \n",
      "- Twitter: https://twitter.com/simplilearn \n",
      "- LinkedIn: https://www.linkedin.com/company/simplilearn/\n",
      "- Website: https://www.simplilearn.com \n",
      "\n",
      "Get the Android app: http://bit.ly/1WlVo4u \n",
      "Get the iOS app: http://apple.co/1HIO5J0\n",
      "Ratings : 4.9568543\n"
     ]
    }
   ],
   "source": [
    "# To print title\n",
    "print(\"Title :\", yt.title)\n",
    "# To get number of views\n",
    "print(\"Views :\", yt.views)\n",
    "# To get the length of video\n",
    "print(\"Duration :\", yt.length)\n",
    "# To get description\n",
    "print(\"Description :\", yt.description)\n",
    "# To get ratings\n",
    "print(\"Ratings :\", yt.rating)"
   ]
  },
  {
   "cell_type": "code",
   "execution_count": null,
   "metadata": {},
   "outputs": [],
   "source": []
  }
 ],
 "metadata": {
  "kernelspec": {
   "display_name": "Python 3",
   "language": "python",
   "name": "python3"
  },
  "language_info": {
   "codemirror_mode": {
    "name": "ipython",
    "version": 3
   },
   "file_extension": ".py",
   "mimetype": "text/x-python",
   "name": "python",
   "nbconvert_exporter": "python",
   "pygments_lexer": "ipython3",
   "version": "3.8.5"
  }
 },
 "nbformat": 4,
 "nbformat_minor": 4
}
